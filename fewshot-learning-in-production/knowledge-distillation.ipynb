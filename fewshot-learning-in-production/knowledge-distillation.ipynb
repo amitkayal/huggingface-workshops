{
 "cells": [
  {
   "cell_type": "markdown",
   "id": "76571396-8f54-40ed-9e81-6c7531e6eaee",
   "metadata": {},
   "source": [
    "# Compressing SetFit Models with Knowledge Distillation"
   ]
  },
  {
   "cell_type": "markdown",
   "id": "a3b30b35-7875-498f-a771-068132f4084f",
   "metadata": {
    "tags": []
   },
   "source": [
    "## 1. Setup development environment"
   ]
  },
  {
   "cell_type": "markdown",
   "id": "dc40c7af-1f4f-4324-847c-dc9b7797b60c",
   "metadata": {},
   "source": [
    "Our first step is to install SetFit. Running the following cell will install all the required packages for us, including Intel Neural Compressor and 🤗 Optimum:"
   ]
  },
  {
   "cell_type": "code",
   "execution_count": null,
   "id": "b5a48182-0ad6-4cb0-8974-6cb69dc5e482",
   "metadata": {},
   "outputs": [],
   "source": [
    "%pip install setfit neural_compressor optimum[onnxruntime] onnxruntime_extensions"
   ]
  },
  {
   "cell_type": "markdown",
   "id": "1832e3f2-09e7-44b5-a438-87ea658d49ea",
   "metadata": {},
   "source": [
    "While we're at it, let's turn off some of the warnings from the 🤗 Datasets library and the tokenizers:"
   ]
  },
  {
   "cell_type": "code",
   "execution_count": 1,
   "id": "b67e17b0-743a-47ba-9d55-9baea453a0d8",
   "metadata": {},
   "outputs": [
    {
     "name": "stdout",
     "output_type": "stream",
     "text": [
      "env: TOKENIZERS_PARALLELISM=false\n"
     ]
    }
   ],
   "source": [
    "import datasets\n",
    "\n",
    "datasets.logging.set_verbosity_error()\n",
    "\n",
    "%env TOKENIZERS_PARALLELISM=false"
   ]
  },
  {
   "cell_type": "markdown",
   "id": "c442bab8-3ae1-4d1d-9ebe-723d7a829bae",
   "metadata": {},
   "source": [
    "To be able to share your model with the community, there are a few more steps to follow.\n",
    "\n",
    "First, you have to store your authentication token from the Hugging Face Hub (sign up here if you haven't already!). To do so, execute the following cell and input an access token associated with your account:"
   ]
  },
  {
   "cell_type": "code",
   "execution_count": null,
   "id": "004da15f-6c49-4e7a-b1f6-b285e22eb6cb",
   "metadata": {},
   "outputs": [],
   "source": [
    "from huggingface_hub import notebook_login\n",
    "\n",
    "notebook_login()"
   ]
  },
  {
   "cell_type": "markdown",
   "id": "ffbea843-2e86-4f14-961c-b8895f9de77d",
   "metadata": {},
   "source": [
    "## Create a performance benchmark"
   ]
  },
  {
   "cell_type": "code",
   "execution_count": 2,
   "id": "55756fec-fc22-4590-84d7-2f3df37b9256",
   "metadata": {},
   "outputs": [],
   "source": [
    "from pathlib import Path\n",
    "from time import perf_counter\n",
    "\n",
    "import evaluate\n",
    "import numpy as np\n",
    "import torch\n",
    "from tqdm.auto import tqdm\n",
    "\n",
    "metric = evaluate.load(\"accuracy\")\n",
    "\n",
    "\n",
    "class PerformanceBenchmark:\n",
    "    def __init__(self, model, dataset, optim_type):\n",
    "        self.model = model\n",
    "        self.dataset = dataset\n",
    "        self.optim_type = optim_type\n",
    "\n",
    "    def compute_accuracy(self):\n",
    "        preds = self.model.predict(self.dataset[\"text\"])\n",
    "        labels = self.dataset[\"label\"]\n",
    "        accuracy = metric.compute(predictions=preds, references=labels)\n",
    "        print(f\"Accuracy on test set - {accuracy['accuracy']:.3f}\")\n",
    "        return accuracy\n",
    "\n",
    "    def compute_size(self):\n",
    "        state_dict = self.model.model_body.state_dict()\n",
    "        tmp_path = Path(\"model.pt\")\n",
    "        torch.save(state_dict, tmp_path)\n",
    "        # Calculate size in megabytes\n",
    "        size_mb = Path(tmp_path).stat().st_size / (1024 * 1024)\n",
    "        # Delete temporary file\n",
    "        tmp_path.unlink()\n",
    "        print(f\"Model size (MB) - {size_mb:.2f}\")\n",
    "        return {\"size_mb\": size_mb}\n",
    "\n",
    "    def time_model(self, query=\"What is the pin number for my account?\"):\n",
    "        latencies = []\n",
    "        # Warmup\n",
    "        for _ in range(10):\n",
    "            _ = self.model([query])\n",
    "        # Timed run\n",
    "        for _ in range(100):\n",
    "            start_time = perf_counter()\n",
    "            _ = self.model([query])\n",
    "            latency = perf_counter() - start_time\n",
    "            latencies.append(latency)\n",
    "        # Compute run statistics\n",
    "        time_avg_ms = 1000 * np.mean(latencies)\n",
    "        time_std_ms = 1000 * np.std(latencies)\n",
    "        print(f\"Average latency (ms) - {time_avg_ms:.2f} +\\- {time_std_ms:.2f}\")\n",
    "        return {\"time_avg_ms\": time_avg_ms, \"time_std_ms\": time_std_ms}\n",
    "\n",
    "    def run_benchmark(self):\n",
    "        metrics = {}\n",
    "        metrics[self.optim_type] = self.compute_size()\n",
    "        metrics[self.optim_type].update(self.compute_accuracy())\n",
    "        metrics[self.optim_type].update(self.time_model())\n",
    "        return metrics"
   ]
  },
  {
   "cell_type": "markdown",
   "id": "1402c1ba-aa7f-4b0b-9db5-1e6f0d301e70",
   "metadata": {},
   "source": [
    "## Train teacher and student baselines"
   ]
  },
  {
   "cell_type": "code",
   "execution_count": 3,
   "id": "7850d846-07c8-48eb-9aa6-2ce1af276ff4",
   "metadata": {},
   "outputs": [
    {
     "data": {
      "application/vnd.jupyter.widget-view+json": {
       "model_id": "377fa43f68ff4d43bea2aa73c3941272",
       "version_major": 2,
       "version_minor": 0
      },
      "text/plain": [
       "  0%|          | 0/2 [00:00<?, ?it/s]"
      ]
     },
     "metadata": {},
     "output_type": "display_data"
    }
   ],
   "source": [
    "from datasets import load_dataset\n",
    "\n",
    "dataset = load_dataset(\"ag_news\")"
   ]
  },
  {
   "cell_type": "code",
   "execution_count": 4,
   "id": "547f9fca-67d9-4b70-86b8-423ce9a60a3b",
   "metadata": {},
   "outputs": [],
   "source": [
    "from setfit import sample_dataset"
   ]
  },
  {
   "cell_type": "code",
   "execution_count": 5,
   "id": "b747ce33-22ec-4bff-bc33-dec168df57bf",
   "metadata": {},
   "outputs": [],
   "source": [
    "train_dataset = dataset[\"train\"].train_test_split(seed=42)"
   ]
  },
  {
   "cell_type": "code",
   "execution_count": 6,
   "id": "70861fcb-f980-486a-abfb-be97bb6cc446",
   "metadata": {},
   "outputs": [
    {
     "data": {
      "application/vnd.jupyter.widget-view+json": {
       "model_id": "be3f3276cec34338945994b14f5cfc4c",
       "version_major": 2,
       "version_minor": 0
      },
      "text/plain": [
       "  0%|          | 0/90 [00:00<?, ?ba/s]"
      ]
     },
     "metadata": {},
     "output_type": "display_data"
    },
    {
     "data": {
      "application/vnd.jupyter.widget-view+json": {
       "model_id": "fb7308d799604603996c95c87ea6453c",
       "version_major": 2,
       "version_minor": 0
      },
      "text/plain": [
       "  0%|          | 0/90 [00:00<?, ?ba/s]"
      ]
     },
     "metadata": {},
     "output_type": "display_data"
    },
    {
     "data": {
      "application/vnd.jupyter.widget-view+json": {
       "model_id": "87fce84b8ea74af58e1ffce7b2a83717",
       "version_major": 2,
       "version_minor": 0
      },
      "text/plain": [
       "  0%|          | 0/90 [00:00<?, ?ba/s]"
      ]
     },
     "metadata": {},
     "output_type": "display_data"
    },
    {
     "data": {
      "application/vnd.jupyter.widget-view+json": {
       "model_id": "1b2ed02d2cd7460b9e80bfd821b09693",
       "version_major": 2,
       "version_minor": 0
      },
      "text/plain": [
       "  0%|          | 0/90 [00:00<?, ?ba/s]"
      ]
     },
     "metadata": {},
     "output_type": "display_data"
    }
   ],
   "source": [
    "train_dataset_teacher = sample_dataset(train_dataset[\"train\"])\n",
    "train_dataset_student = train_dataset[\"test\"].select(range(1000))\n",
    "test_dataset = dataset[\"test\"]"
   ]
  },
  {
   "cell_type": "code",
   "execution_count": 7,
   "id": "52b3bc70-dc3e-4c23-a152-7a149b8b46fe",
   "metadata": {},
   "outputs": [
    {
     "name": "stderr",
     "output_type": "stream",
     "text": [
      "model_head.pkl not found on HuggingFace Hub, initialising classification head with random weights. You should TRAIN this model on a downstream task to use it for predictions and inference.\n",
      "***** Running training *****\n",
      "  Num examples = 1280\n",
      "  Num epochs = 1\n",
      "  Total optimization steps = 80\n",
      "  Total train batch size = 16\n"
     ]
    },
    {
     "data": {
      "application/vnd.jupyter.widget-view+json": {
       "model_id": "7bd4dfd2867d4015b47f2d1df06db5a5",
       "version_major": 2,
       "version_minor": 0
      },
      "text/plain": [
       "Epoch:   0%|          | 0/1 [00:00<?, ?it/s]"
      ]
     },
     "metadata": {},
     "output_type": "display_data"
    },
    {
     "data": {
      "application/vnd.jupyter.widget-view+json": {
       "model_id": "6e9a640ef4b94be9bf552ff6ccc231c2",
       "version_major": 2,
       "version_minor": 0
      },
      "text/plain": [
       "Iteration:   0%|          | 0/80 [00:00<?, ?it/s]"
      ]
     },
     "metadata": {},
     "output_type": "display_data"
    },
    {
     "name": "stdout",
     "output_type": "stream",
     "text": [
      "Model size (MB) - 417.74\n",
      "Accuracy on test set - 0.823\n",
      "Average latency (ms) - 13.46 +\\- 0.57\n"
     ]
    }
   ],
   "source": [
    "from setfit import SetFitModel, SetFitTrainer\n",
    "\n",
    "teacher_model = SetFitModel.from_pretrained(\n",
    "    \"sentence-transformers/paraphrase-mpnet-base-v2\"\n",
    ")\n",
    "teacher_trainer = SetFitTrainer(\n",
    "    model=teacher_model, train_dataset=train_dataset_teacher\n",
    ")\n",
    "teacher_trainer.train()\n",
    "pb = PerformanceBenchmark(\n",
    "    model=teacher_trainer.model, dataset=test_dataset, optim_type=\"MPNet (teacher)\"\n",
    ")\n",
    "perf_metrics = pb.run_benchmark()"
   ]
  },
  {
   "cell_type": "code",
   "execution_count": 8,
   "id": "2cf19a68-cc9f-412b-81dd-e3803c699430",
   "metadata": {},
   "outputs": [
    {
     "name": "stderr",
     "output_type": "stream",
     "text": [
      "model_head.pkl not found on HuggingFace Hub, initialising classification head with random weights. You should TRAIN this model on a downstream task to use it for predictions and inference.\n",
      "***** Running training *****\n",
      "  Num examples = 1280\n",
      "  Num epochs = 1\n",
      "  Total optimization steps = 80\n",
      "  Total train batch size = 16\n"
     ]
    },
    {
     "data": {
      "application/vnd.jupyter.widget-view+json": {
       "model_id": "346319ec294b44b9baf6009b851b4151",
       "version_major": 2,
       "version_minor": 0
      },
      "text/plain": [
       "Epoch:   0%|          | 0/1 [00:00<?, ?it/s]"
      ]
     },
     "metadata": {},
     "output_type": "display_data"
    },
    {
     "data": {
      "application/vnd.jupyter.widget-view+json": {
       "model_id": "bc39b3584cf74e09b56289f06d60b419",
       "version_major": 2,
       "version_minor": 0
      },
      "text/plain": [
       "Iteration:   0%|          | 0/80 [00:00<?, ?it/s]"
      ]
     },
     "metadata": {},
     "output_type": "display_data"
    },
    {
     "name": "stdout",
     "output_type": "stream",
     "text": [
      "Model size (MB) - 66.36\n",
      "Accuracy on test set - 0.745\n",
      "Average latency (ms) - 4.20 +\\- 0.17\n"
     ]
    }
   ],
   "source": [
    "baseline_model = SetFitModel.from_pretrained(\n",
    "    \"sentence-transformers/paraphrase-MiniLM-L3-v2\"\n",
    ")\n",
    "baseline_trainer = SetFitTrainer(\n",
    "    model=baseline_model, train_dataset=train_dataset_teacher\n",
    ")\n",
    "baseline_trainer.train()\n",
    "pb = PerformanceBenchmark(baseline_trainer.model, test_dataset, \"MiniLM-L3 (student)\")\n",
    "perf_metrics.update(pb.run_benchmark())"
   ]
  },
  {
   "cell_type": "markdown",
   "id": "49a55763-af93-4662-8840-7dfc47dd509f",
   "metadata": {},
   "source": [
    "## Compare performance"
   ]
  },
  {
   "cell_type": "code",
   "execution_count": 9,
   "id": "89d0a144-d463-4a61-b78a-861d0d8cd061",
   "metadata": {},
   "outputs": [
    {
     "data": {
      "image/png": "[encoded data removed]",
      "text/plain": [
       "<Figure size 640x480 with 1 Axes>"
      ]
     },
     "metadata": {},
     "output_type": "display_data"
    }
   ],
   "source": [
    "import matplotlib.pyplot as plt\n",
    "import pandas as pd\n",
    "\n",
    "\n",
    "def plot_metrics(perf_metrics, current_optim_type):\n",
    "    df = pd.DataFrame.from_dict(perf_metrics, orient=\"index\")\n",
    "\n",
    "    for idx in df.index:\n",
    "        df_opt = df.loc[idx]\n",
    "        # Add a dashed circle around the current optimization type\n",
    "        if idx == current_optim_type:\n",
    "            plt.scatter(\n",
    "                df_opt[\"time_avg_ms\"],\n",
    "                df_opt[\"accuracy\"] * 100,\n",
    "                alpha=0.5,\n",
    "                s=df_opt[\"size_mb\"],\n",
    "                label=idx,\n",
    "                marker=\"$\\u25CC$\",\n",
    "            )\n",
    "        else:\n",
    "            plt.scatter(\n",
    "                df_opt[\"time_avg_ms\"],\n",
    "                df_opt[\"accuracy\"] * 100,\n",
    "                s=df_opt[\"size_mb\"],\n",
    "                label=idx,\n",
    "                alpha=0.5,\n",
    "            )\n",
    "\n",
    "    legend = plt.legend(bbox_to_anchor=(1, 1))\n",
    "    for handle in legend.legendHandles:\n",
    "        handle.set_sizes([20])\n",
    "\n",
    "    plt.ylim(63, 95)\n",
    "    # Use the slowest model to define the x-axis range\n",
    "    xlim = int(perf_metrics[\"MPNet (teacher)\"][\"time_avg_ms\"] + 3)\n",
    "    plt.xlim(1, xlim)\n",
    "    plt.ylabel(\"Accuracy (%)\")\n",
    "    plt.xlabel(\"Average latency (ms)\")\n",
    "    plt.show()\n",
    "\n",
    "\n",
    "plot_metrics(perf_metrics, \"MiniLM-L3 (student)\")"
   ]
  },
  {
   "cell_type": "markdown",
   "id": "17019479-8651-4d23-9c69-1796073cbd1e",
   "metadata": {},
   "source": [
    "## Train with knowledge distillation"
   ]
  },
  {
   "cell_type": "code",
   "execution_count": 10,
   "id": "893e777c-561c-4184-bb8f-f992fc73a749",
   "metadata": {},
   "outputs": [
    {
     "name": "stderr",
     "output_type": "stream",
     "text": [
      "model_head.pkl not found on HuggingFace Hub, initialising classification head with random weights. You should TRAIN this model on a downstream task to use it for predictions and inference.\n",
      "***** Running training *****\n",
      "  Num examples = 40000\n",
      "  Num epochs = 1\n",
      "  Total optimization steps = 2500\n",
      "  Total train batch size = 16\n"
     ]
    },
    {
     "data": {
      "application/vnd.jupyter.widget-view+json": {
       "model_id": "edff6c99b70141219c30e1b81f3237f7",
       "version_major": 2,
       "version_minor": 0
      },
      "text/plain": [
       "Epoch:   0%|          | 0/1 [00:00<?, ?it/s]"
      ]
     },
     "metadata": {},
     "output_type": "display_data"
    },
    {
     "data": {
      "application/vnd.jupyter.widget-view+json": {
       "model_id": "31e90bbf54664ae18112101c2dfc8e91",
       "version_major": 2,
       "version_minor": 0
      },
      "text/plain": [
       "Iteration:   0%|          | 0/2500 [00:00<?, ?it/s]"
      ]
     },
     "metadata": {},
     "output_type": "display_data"
    },
    {
     "name": "stdout",
     "output_type": "stream",
     "text": [
      "Model size (MB) - 66.36\n",
      "Accuracy on test set - 0.829\n",
      "Average latency (ms) - 4.16 +\\- 0.18\n"
     ]
    },
    {
     "data": {
      "image/png": "[encoded data removed]",
      "text/plain": [
       "<Figure size 640x480 with 1 Axes>"
      ]
     },
     "metadata": {},
     "output_type": "display_data"
    }
   ],
   "source": [
    "from setfit import DistillationSetFitTrainer\n",
    "\n",
    "student_model = SetFitModel.from_pretrained(\n",
    "    \"sentence-transformers/paraphrase-MiniLM-L3-v2\"\n",
    ")\n",
    "student_trainer = DistillationSetFitTrainer(\n",
    "    teacher_model=teacher_model,\n",
    "    train_dataset=train_dataset_student,\n",
    "    student_model=student_model,\n",
    ")\n",
    "student_trainer.train()\n",
    "\n",
    "pb = PerformanceBenchmark(\n",
    "    student_trainer.student_model, test_dataset, \"MiniLM-L3 (distilled)\"\n",
    ")\n",
    "perf_metrics.update(pb.run_benchmark())\n",
    "plot_metrics(perf_metrics, \"MiniLM-L3 (distilled)\")"
   ]
  },
  {
   "cell_type": "markdown",
   "id": "64707fb5-b4eb-4999-966a-1455d3137a79",
   "metadata": {},
   "source": [
    "## Push to Hub"
   ]
  },
  {
   "cell_type": "code",
   "execution_count": null,
   "id": "021c5d10-ada6-4963-8337-96530f1c5414",
   "metadata": {},
   "outputs": [],
   "source": [
    "student_trainer.push_to_hub(\"setfit-minilm-distilled\")"
   ]
  },
  {
   "cell_type": "markdown",
   "id": "697b4436-6f5a-4d55-b511-6a986b15a290",
   "metadata": {},
   "source": [
    "## Export to ONNX"
   ]
  },
  {
   "cell_type": "code",
   "execution_count": 11,
   "id": "1b3ba2bd-387e-4058-9280-f8cf9bfdc35f",
   "metadata": {},
   "outputs": [],
   "source": [
    "!rm -rf onnx"
   ]
  },
  {
   "cell_type": "code",
   "execution_count": 13,
   "id": "1e4052a7-1fcc-4086-b66b-f01c7b5e08fb",
   "metadata": {},
   "outputs": [
    {
     "data": {
      "text/plain": [
       "('onnx/tokenizer_config.json',\n",
       " 'onnx/special_tokens_map.json',\n",
       " 'onnx/vocab.txt',\n",
       " 'onnx/added_tokens.json',\n",
       " 'onnx/tokenizer.json')"
      ]
     },
     "execution_count": 13,
     "metadata": {},
     "output_type": "execute_result"
    }
   ],
   "source": [
    "from optimum.onnxruntime import ORTModelForFeatureExtraction\n",
    "from transformers import AutoTokenizer\n",
    "\n",
    "model_id = \"setfit-minilm-distilled\"\n",
    "onnx_path = Path(\"onnx\")\n",
    "ort_model = ORTModelForFeatureExtraction.from_pretrained(\n",
    "    model_id, from_transformers=True\n",
    ")\n",
    "tokenizer = AutoTokenizer.from_pretrained(model_id)\n",
    "ort_model.save_pretrained(onnx_path)\n",
    "tokenizer.save_pretrained(onnx_path)"
   ]
  },
  {
   "cell_type": "code",
   "execution_count": 14,
   "id": "f8848123-69c4-4fda-8992-87c1b5c97649",
   "metadata": {},
   "outputs": [],
   "source": [
    "from setfit.exporters.utils import mean_pooling\n",
    "from sklearn.linear_model import LogisticRegression\n",
    "\n",
    "\n",
    "class OnnxSetFitModel:\n",
    "    def __init__(self, ort_model, tokenizer):\n",
    "        self.ort_model = ort_model\n",
    "        self.tokenizer = tokenizer\n",
    "        self.model_head = LogisticRegression()\n",
    "\n",
    "    def fit(self, x_train, y_train):\n",
    "        inputs = self.tokenizer(\n",
    "            x_train, padding=True, truncation=True, return_tensors=\"pt\"\n",
    "        )\n",
    "        outputs = self.ort_model(**inputs)\n",
    "        embeddings = mean_pooling(\n",
    "            outputs[\"last_hidden_state\"], inputs[\"attention_mask\"]\n",
    "        )\n",
    "        self.model_head.fit(embeddings, y_train)\n",
    "\n",
    "    def predict(self, inputs):\n",
    "        encoded_inputs = self.tokenizer(\n",
    "            inputs, padding=True, truncation=True, return_tensors=\"pt\"\n",
    "        )\n",
    "        outputs = self.ort_model(**encoded_inputs)\n",
    "        embeddings = mean_pooling(\n",
    "            outputs[\"last_hidden_state\"], encoded_inputs[\"attention_mask\"]\n",
    "        )\n",
    "        return self.model_head.predict(embeddings)\n",
    "\n",
    "    def __call__(self, inputs):\n",
    "        return self.predict(inputs)"
   ]
  },
  {
   "cell_type": "markdown",
   "id": "87d25221-7357-4172-8e73-805ff7881d07",
   "metadata": {},
   "source": [
    "## Cost analysis"
   ]
  },
  {
   "cell_type": "markdown",
   "id": "b1e82901-e0d6-472b-b32a-e09eacb74a37",
   "metadata": {},
   "source": [
    "## Apply dynamic quantization with Intel Neural Compressor"
   ]
  },
  {
   "cell_type": "code",
   "execution_count": 15,
   "id": "4bb84d82-8039-405f-9160-77b7758fde55",
   "metadata": {},
   "outputs": [],
   "source": [
    "import functools\n",
    "\n",
    "import evaluate\n",
    "import onnxruntime\n",
    "from optimum.pipelines import ORTModelForFeatureExtraction\n",
    "from sklearn.linear_model import LogisticRegression\n",
    "\n",
    "accuracy = evaluate.load(\"accuracy\")\n",
    "\n",
    "\n",
    "def eval_func(model):\n",
    "    ort_model = ORTModelForFeatureExtraction.from_pretrained(onnx_path)\n",
    "    ort_model.model = onnxruntime.InferenceSession(model.SerializeToString(), None)\n",
    "    onnx_setfit_model = OnnxSetFitModel(ort_model, tokenizer)\n",
    "    onnx_setfit_model.fit(train_dataset_teacher[\"text\"], train_dataset_teacher[\"label\"])\n",
    "    preds = []\n",
    "    chunk_size = 100\n",
    "    for i in tqdm(range(0, len(test_dataset[\"text\"]), chunk_size)):\n",
    "        preds.extend(\n",
    "            onnx_setfit_model.predict(test_dataset[\"text\"][i : i + chunk_size])\n",
    "        )\n",
    "    labels = test_dataset[\"label\"]\n",
    "    accuracy = metric.compute(predictions=preds, references=labels)\n",
    "    return accuracy[\"accuracy\"]"
   ]
  },
  {
   "cell_type": "code",
   "execution_count": 17,
   "id": "4a6abb35-4884-427f-ab4e-979edf1fdf6f",
   "metadata": {},
   "outputs": [],
   "source": [
    "def build_dynamic_quant_yaml():\n",
    "    yaml = \"\"\"\n",
    "model:\n",
    "  name: bert\n",
    "  framework: onnxrt_integerops\n",
    "  \n",
    "device: cpu\n",
    "\n",
    "quantization:\n",
    "  approach: post_training_dynamic_quant\n",
    "\n",
    "tuning:\n",
    "  accuracy_criterion:\n",
    "    relative: 0.01\n",
    "  exit_policy:\n",
    "    timeout: 0\n",
    "  random_seed: 9527\n",
    "    \"\"\"\n",
    "    with open(\"MiniLM_L3_distilled_onnx_dynamic.yaml\", \"w\", encoding=\"utf-8\") as f:\n",
    "        f.write(yaml)\n",
    "\n",
    "\n",
    "build_dynamic_quant_yaml()"
   ]
  },
  {
   "cell_type": "code",
   "execution_count": 18,
   "id": "9b4d8e83-6e00-453b-bfd4-1f7d79de8a85",
   "metadata": {},
   "outputs": [],
   "source": [
    "from neural_compressor.experimental import Quantization, common\n",
    "\n",
    "onnx_output_path = \"onnx/model_quantized.onnx\"\n",
    "quantizer = Quantization(\"MiniLM_L3_distilled_onnx_dynamic.yaml\")"
   ]
  },
  {
   "cell_type": "code",
   "execution_count": 22,
   "id": "37b1006f-38de-4f06-bd51-0738958f81e8",
   "metadata": {},
   "outputs": [
    {
     "name": "stderr",
     "output_type": "stream",
     "text": [
      "2022-12-13 21:24:59 [INFO] Get FP32 model baseline.\n"
     ]
    },
    {
     "data": {
      "application/vnd.jupyter.widget-view+json": {
       "model_id": "f6b88cbcdeec4cc59c1dcf495e19d282",
       "version_major": 2,
       "version_minor": 0
      },
      "text/plain": [
       "  0%|          | 0/76 [00:00<?, ?it/s]"
      ]
     },
     "metadata": {},
     "output_type": "display_data"
    },
    {
     "name": "stderr",
     "output_type": "stream",
     "text": [
      "2022-12-13 21:25:53 [INFO] Save tuning history to /home/lewis_huggingface_co/git/workshops/fewshot-learning-in-production/nc_workspace/2022-12-13_21-22-43/./history.snapshot.\n",
      "2022-12-13 21:25:53 [INFO] FP32 baseline is: [Accuracy: 0.8155, Duration (seconds): 54.3426]\n",
      "2022-12-13 21:25:57 [INFO] |**********Mixed Precision Statistics*********|\n",
      "2022-12-13 21:25:57 [INFO] +-----------------------+-------+------+------+\n",
      "2022-12-13 21:25:57 [INFO] |        Op Type        | Total | INT8 | FP32 |\n",
      "2022-12-13 21:25:57 [INFO] +-----------------------+-------+------+------+\n",
      "2022-12-13 21:25:57 [INFO] |         Gather        |   5   |  3   |  2   |\n",
      "2022-12-13 21:25:57 [INFO] |         MatMul        |   21  |  21  |  0   |\n",
      "2022-12-13 21:25:57 [INFO] |    DequantizeLinear   |   3   |  3   |  0   |\n",
      "2022-12-13 21:25:57 [INFO] | DynamicQuantizeLinear |   18  |  18  |  0   |\n",
      "2022-12-13 21:25:57 [INFO] +-----------------------+-------+------+------+\n",
      "2022-12-13 21:25:57 [INFO] Pass quantize model elapsed time: 3357.64 ms\n"
     ]
    },
    {
     "data": {
      "application/vnd.jupyter.widget-view+json": {
       "model_id": "a42d47c2bfc9483184e02fe5b20dde77",
       "version_major": 2,
       "version_minor": 0
      },
      "text/plain": [
       "  0%|          | 0/76 [00:00<?, ?it/s]"
      ]
     },
     "metadata": {},
     "output_type": "display_data"
    },
    {
     "name": "stderr",
     "output_type": "stream",
     "text": [
      "2022-12-13 21:26:48 [INFO] Tune 1 result is: [Accuracy (int8|fp32): 0.8155|0.8155, Duration (seconds) (int8|fp32): 51.1710|54.3426], Best tune result is: [Accuracy: 0.8155, Duration (seconds): 51.1710]\n",
      "2022-12-13 21:26:48 [INFO] |**********************Tune Result Statistics**********************|\n",
      "2022-12-13 21:26:48 [INFO] +--------------------+----------+---------------+------------------+\n",
      "2022-12-13 21:26:48 [INFO] |     Info Type      | Baseline | Tune 1 result | Best tune result |\n",
      "2022-12-13 21:26:48 [INFO] +--------------------+----------+---------------+------------------+\n",
      "2022-12-13 21:26:48 [INFO] |      Accuracy      | 0.8155   |    0.8155     |     0.8155       |\n",
      "2022-12-13 21:26:48 [INFO] | Duration (seconds) | 54.3426  |    51.1710    |     51.1710      |\n",
      "2022-12-13 21:26:48 [INFO] +--------------------+----------+---------------+------------------+\n",
      "2022-12-13 21:26:48 [INFO] Save tuning history to /home/lewis_huggingface_co/git/workshops/fewshot-learning-in-production/nc_workspace/2022-12-13_21-22-43/./history.snapshot.\n",
      "2022-12-13 21:26:48 [INFO] Specified timeout or max trials is reached! Found a quantized model which meet accuracy goal. Exit.\n",
      "2022-12-13 21:26:48 [INFO] Save deploy yaml to /home/lewis_huggingface_co/git/workshops/fewshot-learning-in-production/nc_workspace/2022-12-13_21-22-43/deploy.yaml\n"
     ]
    }
   ],
   "source": [
    "quantizer.model = common.Model(\"onnx/model.onnx\")\n",
    "quantizer.eval_func = functools.partial(eval_func)\n",
    "quantized_model = quantizer()"
   ]
  },
  {
   "cell_type": "code",
   "execution_count": 23,
   "id": "2d03f315-9259-49e1-b830-23949f5bd01a",
   "metadata": {},
   "outputs": [],
   "source": [
    "quantized_model.save(\"onnx/model_quantized.onnx\")"
   ]
  },
  {
   "cell_type": "code",
   "execution_count": 24,
   "id": "f5a6055c-6a37-46ae-bf2f-da9de62e644e",
   "metadata": {},
   "outputs": [],
   "source": [
    "class OnnxPerformanceBenchmark(PerformanceBenchmark):\n",
    "    def __init__(self, *args, model_path, **kwargs):\n",
    "        super().__init__(*args, **kwargs)\n",
    "        self.model_path = model_path\n",
    "\n",
    "    def compute_size(self):\n",
    "        size_mb = Path(self.model_path).stat().st_size / (1024 * 1024)\n",
    "        print(f\"Model size (MB) - {size_mb:.2f}\")\n",
    "        return {\"size_mb\": size_mb}\n",
    "\n",
    "    def compute_accuracy(self):\n",
    "        preds = []\n",
    "        chunk_size = 100\n",
    "        for i in tqdm(range(0, len(self.dataset[\"text\"]), chunk_size)):\n",
    "            preds.extend(self.model.predict(self.dataset[\"text\"][i : i + chunk_size]))\n",
    "        labels = self.dataset[\"label\"]\n",
    "        accuracy = metric.compute(predictions=preds, references=labels)\n",
    "        print(f\"Accuracy on test set - {accuracy['accuracy']:.3f}\")\n",
    "        return accuracy"
   ]
  },
  {
   "cell_type": "code",
   "execution_count": 28,
   "id": "2f1679b1-f0ec-4595-bf33-7ed72476a3d5",
   "metadata": {},
   "outputs": [],
   "source": [
    "ort_model = ORTModelForFeatureExtraction.from_pretrained(\n",
    "    onnx_path, file_name=\"model_quantized.onnx\"\n",
    ")\n",
    "onnx_setfit_model = OnnxSetFitModel(ort_model, tokenizer)\n",
    "onnx_setfit_model.fit(train_dataset_teacher[\"text\"], train_dataset_teacher[\"label\"])"
   ]
  },
  {
   "cell_type": "code",
   "execution_count": 29,
   "id": "8806aee3-278a-4bac-ada2-7249cf385dec",
   "metadata": {},
   "outputs": [
    {
     "name": "stdout",
     "output_type": "stream",
     "text": [
      "Model size (MB) - 17.13\n"
     ]
    },
    {
     "data": {
      "application/vnd.jupyter.widget-view+json": {
       "model_id": "346e022e0b9a486fb2bbc73e5ec613e0",
       "version_major": 2,
       "version_minor": 0
      },
      "text/plain": [
       "  0%|          | 0/76 [00:00<?, ?it/s]"
      ]
     },
     "metadata": {},
     "output_type": "display_data"
    },
    {
     "name": "stdout",
     "output_type": "stream",
     "text": [
      "Accuracy on test set - 0.816\n",
      "Average latency (ms) - 1.53 +\\- 0.08\n"
     ]
    },
    {
     "data": {
      "image/png": "[encoded data removed]",
      "text/plain": [
       "<Figure size 640x480 with 1 Axes>"
      ]
     },
     "metadata": {},
     "output_type": "display_data"
    }
   ],
   "source": [
    "pb = OnnxPerformanceBenchmark(\n",
    "    onnx_setfit_model,\n",
    "    test_dataset,\n",
    "    \"MiniLM-L3 (distilled + quantized)\",\n",
    "    model_path=\"onnx/model_quantized.onnx\",\n",
    ")\n",
    "perf_metrics.update(pb.run_benchmark())\n",
    "plot_metrics(perf_metrics, \"MiniLM-L3 (distilled + quantized)\")"
   ]
  },
  {
   "cell_type": "markdown",
   "id": "8f5e57a6-292e-463f-a7a0-6bbe326f57dd",
   "metadata": {},
   "source": [
    "## FIN"
   ]
  },
  {
   "cell_type": "code",
   "execution_count": 49,
   "id": "b211ef29-c38f-4137-867b-fe2d37d5e1dc",
   "metadata": {},
   "outputs": [
    {
     "data": {
      "application/vnd.jupyter.widget-view+json": {
       "model_id": "c0de71e08606489ebf478a5e90ade05d",
       "version_major": 2,
       "version_minor": 0
      },
      "text/plain": [
       "Batches:   0%|          | 0/1 [00:00<?, ?it/s]"
      ]
     },
     "metadata": {},
     "output_type": "display_data"
    },
    {
     "data": {
      "text/plain": [
       "array([2, 1])"
      ]
     },
     "execution_count": 49,
     "metadata": {},
     "output_type": "execute_result"
    }
   ],
   "source": [
    "teacher_model(train_dataset[\"train\"].shuffle(seed=0)[:2][\"text\"])"
   ]
  },
  {
   "cell_type": "code",
   "execution_count": 48,
   "id": "fb8f1b93-31b1-409a-a764-5e3b15a8d605",
   "metadata": {},
   "outputs": [
    {
     "data": {
      "application/vnd.jupyter.widget-view+json": {
       "model_id": "9069cb018af843969683c486886caf93",
       "version_major": 2,
       "version_minor": 0
      },
      "text/plain": [
       "Batches:   0%|          | 0/1 [00:00<?, ?it/s]"
      ]
     },
     "metadata": {},
     "output_type": "display_data"
    },
    {
     "data": {
      "text/plain": [
       "array([0, 1])"
      ]
     },
     "execution_count": 48,
     "metadata": {},
     "output_type": "execute_result"
    }
   ],
   "source": [
    "student_model(train_dataset[\"train\"].shuffle(seed=0)[:2][\"text\"])"
   ]
  },
  {
   "cell_type": "markdown",
   "id": "5877c278-06da-438b-af81-8e7c1a7b338a",
   "metadata": {},
   "source": [
    "### Quantize with ONNX Runtime"
   ]
  },
  {
   "cell_type": "code",
   "execution_count": 50,
   "id": "d353a688-e02a-42c0-9824-27c74e4699b0",
   "metadata": {},
   "outputs": [
    {
     "data": {
      "text/plain": [
       "array([0, 1], dtype=int64)"
      ]
     },
     "execution_count": 50,
     "metadata": {},
     "output_type": "execute_result"
    }
   ],
   "source": [
    "import onnxruntime\n",
    "from transformers import AutoTokenizer\n",
    "\n",
    "tokenizer = AutoTokenizer.from_pretrained(\"setfit-mnpet-distilled\")\n",
    "input_text = train_dataset[\"train\"].shuffle(seed=0)[:2][\"text\"]\n",
    "\n",
    "inputs = tokenizer(\n",
    "    input_text,\n",
    "    padding=True,\n",
    "    truncation=True,\n",
    "    return_attention_mask=True,\n",
    "    return_token_type_ids=True,\n",
    "    return_tensors=\"np\",\n",
    ")\n",
    "\n",
    "session = onnxruntime.InferenceSession(output_path)\n",
    "\n",
    "onnx_preds = session.run(None, dict(inputs))[0]\n",
    "onnx_preds"
   ]
  },
  {
   "cell_type": "code",
   "execution_count": 52,
   "id": "a5677b27-eb47-457c-9a64-c71f48dc2853",
   "metadata": {},
   "outputs": [],
   "source": [
    "import onnx\n",
    "\n",
    "onnx_model = onnx.load(output_path)"
   ]
  },
  {
   "cell_type": "code",
   "execution_count": 58,
   "id": "e192b2b5-7e96-41df-ab48-7fee66feb52c",
   "metadata": {},
   "outputs": [
    {
     "data": {
      "text/plain": [
       "array([0, 1], dtype=int64)"
      ]
     },
     "execution_count": 58,
     "metadata": {},
     "output_type": "execute_result"
    }
   ],
   "source": [
    "session = onnxruntime.InferenceSession(onnx_model.SerializeToString(), None)\n",
    "onnx_preds = session.run(None, dict(inputs))[0]\n",
    "onnx_preds"
   ]
  }
 ],
 "metadata": {
  "kernelspec": {
   "display_name": "Python 3 (ipykernel)",
   "language": "python",
   "name": "python3"
  },
  "language_info": {
   "codemirror_mode": {
    "name": "ipython",
    "version": 3
   },
   "file_extension": ".py",
   "mimetype": "text/x-python",
   "name": "python",
   "nbconvert_exporter": "python",
   "pygments_lexer": "ipython3",
   "version": "3.9.13"
  }
 },
 "nbformat": 4,
 "nbformat_minor": 5
}
