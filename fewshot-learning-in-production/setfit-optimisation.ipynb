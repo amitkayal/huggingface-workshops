{
 "cells": [
  {
   "cell_type": "markdown",
   "id": "7a40382d-295b-45e5-b694-52331d61e657",
   "metadata": {},
   "source": [
    "{{ badge }}"
   ]
  },
  {
   "cell_type": "markdown",
   "id": "76571396-8f54-40ed-9e81-6c7531e6eaee",
   "metadata": {},
   "source": [
    "# Compressing SetFit Models with Knowledge Distillation and Quantization"
   ]
  },
  {
   "cell_type": "markdown",
   "id": "24fd5853-812f-45a4-8a7b-0a0c9a60d0a2",
   "metadata": {},
   "source": [
    "[SetFit](https://github.com/huggingface/setfit) is a technique for few-shot text classification that uses contrastive learning to fine-tune Sentence Transformers in domains where little to no labeled data is available. It achieves comparable performance to existing state-of-the-art methods based on large language models, yet requires no prompts and is efficient to train (typically a few seconds on a GPU to minutes on a CPU).\n",
    "\n",
    "In this workshop you'll learn how to apply two powerful techniques to compress SetFit models for faster inference & deployment:\n",
    "\n",
    "* Knowledge distillation: use the information stored in the parameters of a _teacher model_ to guide the training of a smaller _student_. This typically results in a 2x reduction of model size, with little impact on accuracy.\n",
    "* Quantization: convert the weights of the model from 32-bit floating point to 8-bit integer. This typically provides an additional 2x compression at the expense of a small loss in accuracy.\n",
    "\n",
    "Along the way, you'll learn how to use two open-source libraries: \n",
    "\n",
    "* [SetFit](https://github.com/huggingface/setfit): a library built on [Sentence Transformers](https://sbert.net/) that implements the SetFit algorithm, along with techniques like knowledge distillation.\n",
    "* [🤗 Optimum](https://github.com/huggingface/optimum): an extension of 🤗 Transformers, which provides a set of performance optimization tools enabling maximum efficiency to train and run models on targeted hardware.\n",
    "* [🤗 Evaluate](https://github.com/huggingface/evaluate): a library that makes evaluating and comparing models and reporting their performance easier and more standardized.\n",
    "* [Intel Neural Compressor](https://github.com/intel/neural-compressor): Intel's flagship library for applying compression algorithms to various frameworks like PyTorch and TensorFlow.\n",
    "\n",
    "\n",
    "By the end of this session, you see knowledge distillation and quantization can significantly decrease model latency and size while keeping almost 100% of the full-precision model."
   ]
  },
  {
   "cell_type": "markdown",
   "id": "a3b30b35-7875-498f-a771-068132f4084f",
   "metadata": {
    "tags": []
   },
   "source": [
    "## 1. Setup development environment"
   ]
  },
  {
   "cell_type": "markdown",
   "id": "dc40c7af-1f4f-4324-847c-dc9b7797b60c",
   "metadata": {},
   "source": [
    "Our first step is to install SetFit. Running the following cell will install all the required packages for us, including Intel Neural Compressor and 🤗 Optimum:"
   ]
  },
  {
   "cell_type": "code",
   "execution_count": null,
   "id": "b5a48182-0ad6-4cb0-8974-6cb69dc5e482",
   "metadata": {},
   "outputs": [],
   "source": [
    "%pip install setfit neural_compressor optimum[onnxruntime] onnxruntime_extensions"
   ]
  },
  {
   "cell_type": "markdown",
   "id": "1832e3f2-09e7-44b5-a438-87ea658d49ea",
   "metadata": {},
   "source": [
    "While we're at it, let's turn off some of the warnings from the 🤗 Datasets library and the tokenizers:"
   ]
  },
  {
   "cell_type": "code",
   "execution_count": 1,
   "id": "b67e17b0-743a-47ba-9d55-9baea453a0d8",
   "metadata": {},
   "outputs": [
    {
     "name": "stdout",
     "output_type": "stream",
     "text": [
      "env: TOKENIZERS_PARALLELISM=false\n"
     ]
    }
   ],
   "source": [
    "import datasets\n",
    "\n",
    "datasets.logging.set_verbosity_error()\n",
    "\n",
    "%env TOKENIZERS_PARALLELISM=false"
   ]
  },
  {
   "cell_type": "markdown",
   "id": "c442bab8-3ae1-4d1d-9ebe-723d7a829bae",
   "metadata": {},
   "source": [
    "To be able to share your model with the community, there are a few more steps to follow.\n",
    "\n",
    "First, you have to store your authentication token from the Hugging Face Hub (sign up here if you haven't already!). To do so, execute the following cell and input an **access token with write permissions** associated with your account:"
   ]
  },
  {
   "cell_type": "code",
   "execution_count": null,
   "id": "004da15f-6c49-4e7a-b1f6-b285e22eb6cb",
   "metadata": {},
   "outputs": [],
   "source": [
    "from huggingface_hub import notebook_login\n",
    "\n",
    "notebook_login()"
   ]
  },
  {
   "cell_type": "markdown",
   "id": "ffbea843-2e86-4f14-961c-b8895f9de77d",
   "metadata": {},
   "source": [
    "## 2. Create a performance benchmark\n",
    "\n",
    "Before we train and optimize any models, let's define a performance benchmark that we can use to compare our models. In general, deploying ML models in production environments involves a tradeoff among several constraints:\n",
    "\n",
    "* Model performance: how well does the model perform on a well crafted test set?\n",
    "* Latency: how fast can our model deliver predictions?\n",
    "* Memory: on what cloud instance or device can we store and load our model?\n",
    "\n",
    "The class below defines a simplebenchmark that measure each quantity for a given SetFit model and test dataset:"
   ]
  },
  {
   "cell_type": "code",
   "execution_count": 6,
   "id": "55756fec-fc22-4590-84d7-2f3df37b9256",
   "metadata": {},
   "outputs": [],
   "source": [
    "from pathlib import Path\n",
    "from time import perf_counter\n",
    "\n",
    "import evaluate\n",
    "import numpy as np\n",
    "import torch\n",
    "from tqdm.auto import tqdm\n",
    "\n",
    "metric = evaluate.load(\"accuracy\")\n",
    "\n",
    "\n",
    "class PerformanceBenchmark:\n",
    "    def __init__(self, model, dataset, optim_type):\n",
    "        self.model = model\n",
    "        self.dataset = dataset\n",
    "        self.optim_type = optim_type\n",
    "\n",
    "    def compute_accuracy(self):\n",
    "        preds = self.model.predict(self.dataset[\"text\"])\n",
    "        labels = self.dataset[\"label\"]\n",
    "        accuracy = metric.compute(predictions=preds, references=labels)\n",
    "        print(f\"Accuracy on test set - {accuracy['accuracy']:.3f}\")\n",
    "        return accuracy\n",
    "\n",
    "    def compute_size(self):\n",
    "        state_dict = self.model.model_body.state_dict()\n",
    "        tmp_path = Path(\"model.pt\")\n",
    "        torch.save(state_dict, tmp_path)\n",
    "        # Calculate size in megabytes\n",
    "        size_mb = Path(tmp_path).stat().st_size / (1024 * 1024)\n",
    "        # Delete temporary file\n",
    "        tmp_path.unlink()\n",
    "        print(f\"Model size (MB) - {size_mb:.2f}\")\n",
    "        return {\"size_mb\": size_mb}\n",
    "\n",
    "    def time_model(self, query=\"What is the pin number for my account?\"):\n",
    "        latencies = []\n",
    "        # Warmup\n",
    "        for _ in range(10):\n",
    "            _ = self.model([query])\n",
    "        # Timed run\n",
    "        for _ in range(100):\n",
    "            start_time = perf_counter()\n",
    "            _ = self.model([query])\n",
    "            latency = perf_counter() - start_time\n",
    "            latencies.append(latency)\n",
    "        # Compute run statistics\n",
    "        time_avg_ms = 1000 * np.mean(latencies)\n",
    "        time_std_ms = 1000 * np.std(latencies)\n",
    "        print(f\"Average latency (ms) - {time_avg_ms:.2f} +\\- {time_std_ms:.2f}\")\n",
    "        return {\"time_avg_ms\": time_avg_ms, \"time_std_ms\": time_std_ms}\n",
    "\n",
    "    def run_benchmark(self):\n",
    "        metrics = {}\n",
    "        metrics[self.optim_type] = self.compute_size()\n",
    "        metrics[self.optim_type].update(self.compute_accuracy())\n",
    "        metrics[self.optim_type].update(self.time_model())\n",
    "        return metrics"
   ]
  },
  {
   "cell_type": "markdown",
   "id": "1402c1ba-aa7f-4b0b-9db5-1e6f0d301e70",
   "metadata": {},
   "source": [
    "## 3. Train teacher and student baselines"
   ]
  },
  {
   "cell_type": "markdown",
   "id": "5a850dfb-fffb-4e03-b468-b1f78d434705",
   "metadata": {},
   "source": [
    "Before we optimize any models, let's train a few baselines as a point of reference. We'll use the [AG News](https://huggingface.co/datasets/ag_news) dataset, which is a collection of news articles categorised across 4 topics: world, sport, business, and sci/tech.\n",
    "\n",
    "Let's start by loading the dataset from the Hub:"
   ]
  },
  {
   "cell_type": "code",
   "execution_count": 2,
   "id": "7850d846-07c8-48eb-9aa6-2ce1af276ff4",
   "metadata": {},
   "outputs": [
    {
     "name": "stderr",
     "output_type": "stream",
     "text": [
      "Using custom data configuration default\n",
      "Reusing dataset ag_news (/home/lewis_huggingface_co/.cache/huggingface/datasets/ag_news/default/0.0.0/bc2bcb40336ace1a0374767fc29bb0296cdaf8a6da7298436239c54d79180548)\n"
     ]
    },
    {
     "data": {
      "application/vnd.jupyter.widget-view+json": {
       "model_id": "147f373abf6444deb52fabb605b82aa4",
       "version_major": 2,
       "version_minor": 0
      },
      "text/plain": [
       "  0%|          | 0/2 [00:00<?, ?it/s]"
      ]
     },
     "metadata": {},
     "output_type": "display_data"
    },
    {
     "data": {
      "text/plain": [
       "DatasetDict({\n",
       "    train: Dataset({\n",
       "        features: ['text', 'label'],\n",
       "        num_rows: 120000\n",
       "    })\n",
       "    test: Dataset({\n",
       "        features: ['text', 'label'],\n",
       "        num_rows: 7600\n",
       "    })\n",
       "})"
      ]
     },
     "execution_count": 2,
     "metadata": {},
     "output_type": "execute_result"
    }
   ],
   "source": [
    "from datasets import load_dataset\n",
    "\n",
    "dataset = load_dataset(\"ag_news\")\n",
    "dataset"
   ]
  },
  {
   "cell_type": "markdown",
   "id": "a714cf95-a831-41b7-8f04-ffe0350d4659",
   "metadata": {},
   "source": [
    "To simulate working in a few-shot regime, we'll randomly sample from the training set. We'll also need 1,000 unlabeled examples for the knowledge distillation step, so let's split the training data into separate splits to avoid any data leakage:"
   ]
  },
  {
   "cell_type": "code",
   "execution_count": 4,
   "id": "a628cbfa-cfcd-4e4f-ab48-b454e5695ac8",
   "metadata": {},
   "outputs": [
    {
     "name": "stderr",
     "output_type": "stream",
     "text": [
      "Loading cached split indices for dataset at /home/lewis_huggingface_co/.cache/huggingface/datasets/ag_news/default/0.0.0/bc2bcb40336ace1a0374767fc29bb0296cdaf8a6da7298436239c54d79180548/cache-71c5b5bdaaa997ad.arrow and /home/lewis_huggingface_co/.cache/huggingface/datasets/ag_news/default/0.0.0/bc2bcb40336ace1a0374767fc29bb0296cdaf8a6da7298436239c54d79180548/cache-96c82937a87dddfb.arrow\n",
      "Loading cached shuffled indices for dataset at /home/lewis_huggingface_co/.cache/huggingface/datasets/ag_news/default/0.0.0/bc2bcb40336ace1a0374767fc29bb0296cdaf8a6da7298436239c54d79180548/cache-326f3e05a0ac45e9.arrow\n",
      "Loading cached processed dataset at /home/lewis_huggingface_co/.cache/huggingface/datasets/ag_news/default/0.0.0/bc2bcb40336ace1a0374767fc29bb0296cdaf8a6da7298436239c54d79180548/cache-4e356bd67c5864e3.arrow\n"
     ]
    },
    {
     "data": {
      "application/vnd.jupyter.widget-view+json": {
       "model_id": "bf1333fbc35344ab918380a2982a1eca",
       "version_major": 2,
       "version_minor": 0
      },
      "text/plain": [
       "  0%|          | 0/90 [00:00<?, ?ba/s]"
      ]
     },
     "metadata": {},
     "output_type": "display_data"
    },
    {
     "data": {
      "application/vnd.jupyter.widget-view+json": {
       "model_id": "1fecd3c3e8744cb492a004fe652b9c69",
       "version_major": 2,
       "version_minor": 0
      },
      "text/plain": [
       "  0%|          | 0/90 [00:00<?, ?ba/s]"
      ]
     },
     "metadata": {},
     "output_type": "display_data"
    },
    {
     "data": {
      "application/vnd.jupyter.widget-view+json": {
       "model_id": "fcd0b23e4b4a46fd839045c6a76fc5ad",
       "version_major": 2,
       "version_minor": 0
      },
      "text/plain": [
       "  0%|          | 0/90 [00:00<?, ?ba/s]"
      ]
     },
     "metadata": {},
     "output_type": "display_data"
    },
    {
     "data": {
      "application/vnd.jupyter.widget-view+json": {
       "model_id": "5b6052608a3048adb93b234e1a2f4772",
       "version_major": 2,
       "version_minor": 0
      },
      "text/plain": [
       "  0%|          | 0/90 [00:00<?, ?ba/s]"
      ]
     },
     "metadata": {},
     "output_type": "display_data"
    }
   ],
   "source": [
    "from setfit import sample_dataset\n",
    "\n",
    "# Create 2 splits: one for few-shot training, the other for knowledge distillation\n",
    "train_dataset = dataset[\"train\"].train_test_split(seed=42)\n",
    "# Sample 8 examples / class for fine-tuning\n",
    "train_dataset_teacher = sample_dataset(train_dataset[\"train\"])\n",
    "# Select 1000 unlabeled examples for knowledge distillation\n",
    "train_dataset_student = train_dataset[\"test\"].select(range(1000))\n",
    "# Define the test set for evaluation\n",
    "test_dataset = dataset[\"test\"]"
   ]
  },
  {
   "cell_type": "markdown",
   "id": "5fbcbe50-ea55-4716-9d15-aaac1403fa7d",
   "metadata": {},
   "source": [
    "Now that we've got out training and test sets, let's train some SetFit models! With the `SetFitModel` and `SetFitTrainer` classes, this is quite simple:"
   ]
  },
  {
   "cell_type": "code",
   "execution_count": 7,
   "id": "52b3bc70-dc3e-4c23-a152-7a149b8b46fe",
   "metadata": {},
   "outputs": [
    {
     "name": "stderr",
     "output_type": "stream",
     "text": [
      "model_head.pkl not found on HuggingFace Hub, initialising classification head with random weights. You should TRAIN this model on a downstream task to use it for predictions and inference.\n",
      "***** Running training *****\n",
      "  Num examples = 1280\n",
      "  Num epochs = 1\n",
      "  Total optimization steps = 80\n",
      "  Total train batch size = 16\n"
     ]
    },
    {
     "data": {
      "application/vnd.jupyter.widget-view+json": {
       "model_id": "24623931e1814defa359ef4ab079d525",
       "version_major": 2,
       "version_minor": 0
      },
      "text/plain": [
       "Epoch:   0%|          | 0/1 [00:00<?, ?it/s]"
      ]
     },
     "metadata": {},
     "output_type": "display_data"
    },
    {
     "data": {
      "application/vnd.jupyter.widget-view+json": {
       "model_id": "c271b67dfff146e6b8758dc0decb8346",
       "version_major": 2,
       "version_minor": 0
      },
      "text/plain": [
       "Iteration:   0%|          | 0/80 [00:00<?, ?it/s]"
      ]
     },
     "metadata": {},
     "output_type": "display_data"
    },
    {
     "name": "stdout",
     "output_type": "stream",
     "text": [
      "Model size (MB) - 417.74\n",
      "Accuracy on test set - 0.814\n",
      "Average latency (ms) - 11.38 +\\- 0.51\n"
     ]
    }
   ],
   "source": [
    "from setfit import SetFitModel, SetFitTrainer\n",
    "\n",
    "# Load pretrained model from the Hub\n",
    "teacher_model = SetFitModel.from_pretrained(\n",
    "    \"sentence-transformers/paraphrase-mpnet-base-v2\"\n",
    ")\n",
    "# Create trainer\n",
    "teacher_trainer = SetFitTrainer(\n",
    "    model=teacher_model, train_dataset=train_dataset_teacher\n",
    ")\n",
    "# Train!\n",
    "teacher_trainer.train()\n",
    "\n",
    "# Evaluate!\n",
    "pb = PerformanceBenchmark(\n",
    "    model=teacher_trainer.model, dataset=test_dataset, optim_type=\"MPNet (teacher)\"\n",
    ")\n",
    "perf_metrics = pb.run_benchmark()"
   ]
  },
  {
   "cell_type": "markdown",
   "id": "a944dca1-6e3f-4eb4-89d9-953b71ffeaa7",
   "metadata": {},
   "source": [
    "An accuracy of ~80% isn't too bad for just 8 labeled examples per class! Now let's see what happens if we train a much smaller model for comparison:"
   ]
  },
  {
   "cell_type": "code",
   "execution_count": 8,
   "id": "2cf19a68-cc9f-412b-81dd-e3803c699430",
   "metadata": {},
   "outputs": [
    {
     "name": "stderr",
     "output_type": "stream",
     "text": [
      "model_head.pkl not found on HuggingFace Hub, initialising classification head with random weights. You should TRAIN this model on a downstream task to use it for predictions and inference.\n",
      "***** Running training *****\n",
      "  Num examples = 1280\n",
      "  Num epochs = 1\n",
      "  Total optimization steps = 80\n",
      "  Total train batch size = 16\n"
     ]
    },
    {
     "data": {
      "application/vnd.jupyter.widget-view+json": {
       "model_id": "efffe668572940b3bd37db3a67bf8fbc",
       "version_major": 2,
       "version_minor": 0
      },
      "text/plain": [
       "Epoch:   0%|          | 0/1 [00:00<?, ?it/s]"
      ]
     },
     "metadata": {},
     "output_type": "display_data"
    },
    {
     "data": {
      "application/vnd.jupyter.widget-view+json": {
       "model_id": "4c993fc0142c4404902affe7a1721923",
       "version_major": 2,
       "version_minor": 0
      },
      "text/plain": [
       "Iteration:   0%|          | 0/80 [00:00<?, ?it/s]"
      ]
     },
     "metadata": {},
     "output_type": "display_data"
    },
    {
     "name": "stdout",
     "output_type": "stream",
     "text": [
      "Model size (MB) - 66.36\n",
      "Accuracy on test set - 0.749\n",
      "Average latency (ms) - 3.95 +\\- 0.26\n"
     ]
    }
   ],
   "source": [
    "baseline_model = SetFitModel.from_pretrained(\n",
    "    \"sentence-transformers/paraphrase-MiniLM-L3-v2\"\n",
    ")\n",
    "baseline_trainer = SetFitTrainer(\n",
    "    model=baseline_model, train_dataset=train_dataset_teacher\n",
    ")\n",
    "baseline_trainer.train()\n",
    "pb = PerformanceBenchmark(baseline_trainer.model, test_dataset, \"MiniLM-L3 (student)\")\n",
    "perf_metrics.update(pb.run_benchmark())"
   ]
  },
  {
   "cell_type": "markdown",
   "id": "82bf3e15-2804-4669-97d6-87e1bbef7223",
   "metadata": {},
   "source": [
    "Hmm, although this model is ~3x faster at inference, the performance hit of ~7% is quite significant. Let's plot these results to visualise the two models:"
   ]
  },
  {
   "cell_type": "code",
   "execution_count": 10,
   "id": "89d0a144-d463-4a61-b78a-861d0d8cd061",
   "metadata": {},
   "outputs": [
    {
     "data": {
      "image/png": "[encoded data removed]",
      "text/plain": [
       "<Figure size 640x480 with 1 Axes>"
      ]
     },
     "metadata": {},
     "output_type": "display_data"
    }
   ],
   "source": [
    "import matplotlib.pyplot as plt\n",
    "import pandas as pd\n",
    "\n",
    "\n",
    "def plot_metrics(perf_metrics, current_optim_type):\n",
    "    df = pd.DataFrame.from_dict(perf_metrics, orient=\"index\")\n",
    "\n",
    "    for idx in df.index:\n",
    "        df_opt = df.loc[idx]\n",
    "        # Add a dashed circle around the current optimization type\n",
    "        if idx == current_optim_type:\n",
    "            plt.scatter(\n",
    "                df_opt[\"time_avg_ms\"],\n",
    "                df_opt[\"accuracy\"] * 100,\n",
    "                alpha=0.5,\n",
    "                s=df_opt[\"size_mb\"],\n",
    "                label=idx,\n",
    "                marker=\"$\\u25CC$\",\n",
    "            )\n",
    "        else:\n",
    "            plt.scatter(\n",
    "                df_opt[\"time_avg_ms\"],\n",
    "                df_opt[\"accuracy\"] * 100,\n",
    "                s=df_opt[\"size_mb\"],\n",
    "                label=idx,\n",
    "                alpha=0.5,\n",
    "            )\n",
    "\n",
    "    legend = plt.legend(bbox_to_anchor=(1, 1))\n",
    "    for handle in legend.legendHandles:\n",
    "        handle.set_sizes([20])\n",
    "\n",
    "    plt.ylim(63, 95)\n",
    "    # Use the slowest model to define the x-axis range\n",
    "    xlim = int(perf_metrics[\"MPNet (teacher)\"][\"time_avg_ms\"] + 3)\n",
    "    plt.xlim(1, xlim)\n",
    "    plt.ylabel(\"Accuracy (%)\")\n",
    "    plt.xlabel(\"Average latency (ms)\")\n",
    "    plt.show()\n",
    "\n",
    "\n",
    "plot_metrics(perf_metrics, \"MiniLM-L3 (student)\")"
   ]
  },
  {
   "cell_type": "markdown",
   "id": "17019479-8651-4d23-9c69-1796073cbd1e",
   "metadata": {},
   "source": [
    "## 4. Train with knowledge distillation"
   ]
  },
  {
   "cell_type": "markdown",
   "id": "6a09b467-7b84-49a4-91a3-6c66c7ef6168",
   "metadata": {},
   "source": [
    "We saw that the MiniLM model suffered a hit in performance due it's lower capacity. One way to improve the situation is with _knowledge distillation_, where we use the MPNet model as a \"teacher\" that guides the training of the smaller MiniLM model (check out Chapter 8 of the [_NLP with Transformers_](https://transformersbook.com/) book for an in-depth guide on knowledge distillation and other compression techniques). \n",
    "\n",
    "In SetFit, the way this works is by comparing the cosine similarities of the two models during the contrastive learning step, and computing the mean-squared error between them. This logic is wrapped in a handy `DistillationSetFitTrainer` which follows the same API as the standard `SetFitTrainer`. The main difference here is that we need to provide a dataset of unlabeled examples to perform the knowledge distillation step:"
   ]
  },
  {
   "cell_type": "code",
   "execution_count": 11,
   "id": "893e777c-561c-4184-bb8f-f992fc73a749",
   "metadata": {},
   "outputs": [
    {
     "name": "stderr",
     "output_type": "stream",
     "text": [
      "model_head.pkl not found on HuggingFace Hub, initialising classification head with random weights. You should TRAIN this model on a downstream task to use it for predictions and inference.\n",
      "***** Running training *****\n",
      "  Num examples = 40000\n",
      "  Num epochs = 1\n",
      "  Total optimization steps = 2500\n",
      "  Total train batch size = 16\n"
     ]
    },
    {
     "data": {
      "application/vnd.jupyter.widget-view+json": {
       "model_id": "4ff9ff810c6a4b6dbf88a35715ff0901",
       "version_major": 2,
       "version_minor": 0
      },
      "text/plain": [
       "Epoch:   0%|          | 0/1 [00:00<?, ?it/s]"
      ]
     },
     "metadata": {},
     "output_type": "display_data"
    },
    {
     "data": {
      "application/vnd.jupyter.widget-view+json": {
       "model_id": "b470aa534c5f40f79bef43c8c16d0ddf",
       "version_major": 2,
       "version_minor": 0
      },
      "text/plain": [
       "Iteration:   0%|          | 0/2500 [00:00<?, ?it/s]"
      ]
     },
     "metadata": {},
     "output_type": "display_data"
    },
    {
     "name": "stdout",
     "output_type": "stream",
     "text": [
      "Model size (MB) - 66.36\n",
      "Accuracy on test set - 0.818\n",
      "Average latency (ms) - 3.77 +\\- 0.15\n"
     ]
    },
    {
     "data": {
      "image/png": "[encoded data removed]",
      "text/plain": [
       "<Figure size 640x480 with 1 Axes>"
      ]
     },
     "metadata": {},
     "output_type": "display_data"
    }
   ],
   "source": [
    "from setfit import DistillationSetFitTrainer\n",
    "\n",
    "student_model = SetFitModel.from_pretrained(\n",
    "    \"sentence-transformers/paraphrase-MiniLM-L3-v2\"\n",
    ")\n",
    "student_trainer = DistillationSetFitTrainer(\n",
    "    teacher_model=teacher_model,\n",
    "    train_dataset=train_dataset_student,\n",
    "    student_model=student_model,\n",
    ")\n",
    "student_trainer.train()\n",
    "\n",
    "pb = PerformanceBenchmark(\n",
    "    student_trainer.student_model, test_dataset, \"MiniLM-L3 (distilled)\"\n",
    ")\n",
    "perf_metrics.update(pb.run_benchmark())\n",
    "plot_metrics(perf_metrics, \"MiniLM-L3 (distilled)\")"
   ]
  },
  {
   "cell_type": "markdown",
   "id": "8ca98a05-a200-4b03-9849-89bdec58a80f",
   "metadata": {},
   "source": [
    "Nice! We've recovered the same performance as the MPNet model, yet have ~3x decrease in latency from the smaller MiniLM checkpoint 🔥. Now that we have a good and efficient model, let's push it to the Hub so we can deploy it on [Inference Endpoints](https://huggingface.co/inference-endpoints)!"
   ]
  },
  {
   "cell_type": "markdown",
   "id": "64707fb5-b4eb-4999-966a-1455d3137a79",
   "metadata": {},
   "source": [
    "## 5. Push to Hub"
   ]
  },
  {
   "cell_type": "markdown",
   "id": "35f8468f-96ef-498f-a330-a6826ef8c6cc",
   "metadata": {},
   "source": [
    "Pushing the model to the Hub is a one-liner:"
   ]
  },
  {
   "cell_type": "code",
   "execution_count": null,
   "id": "021c5d10-ada6-4963-8337-96530f1c5414",
   "metadata": {},
   "outputs": [],
   "source": [
    "student_trainer.push_to_hub(\"setfit-minilm-distilled\")"
   ]
  },
  {
   "cell_type": "markdown",
   "id": "174c0568-9d58-4c18-8f65-8fa318f3c0fa",
   "metadata": {},
   "source": [
    "## 6. Compressing further with ONNX and Intel Neural Compressor"
   ]
  },
  {
   "cell_type": "markdown",
   "id": "c1e7d2d5-91a2-496a-a73d-e699d1ab609c",
   "metadata": {},
   "source": [
    "The distilled model is likely suitable for most purposes, but sometimes you'll want to squeeze as much performance out of the model as possible. This is where a technique known as _quantization_ enters. The basic idea behind quantization is that we can “discretize” the floating-point values $f$ in each tensor by mapping their range $[f_{max}, f_{min}]$ into a smaller one $[q_{max}, q_{min}]$ of fixed-point numbers , and linearly distributing all values in between.\n",
    "\n",
    "There are several ways to quantize a models' parameters, but the one we'll focus on today is _dynamic quantization_. Dynamic quantization converts the weights of a model from FP32 to INT8 post-training and does this conversion on-the-fly at inference time. This is one of the simplest quantization techniques and generally provides a ~2-3x reduction in latency.\n",
    "\n",
    "In this section, we'll perform dynamic quantization with Intel Neural Compressor, and in pariticular on the ONNX representation of our SetFit model. Using ONNX turns out to be an effective way to optimally compress the model vs operating directly on PyTorch, so to get started let's export the model!"
   ]
  },
  {
   "cell_type": "markdown",
   "id": "697b4436-6f5a-4d55-b511-6a986b15a290",
   "metadata": {},
   "source": [
    "### Export the model body to ONNX"
   ]
  },
  {
   "cell_type": "markdown",
   "id": "9450c459-3788-4ec9-a981-e519c1c24589",
   "metadata": {},
   "source": [
    "The first step is to export the model body (i.e. the Sentence Transformer) to ONNX format. We can do this easily in 🤗 Optimum, which provides autoclasses to load the model and save it to disk:"
   ]
  },
  {
   "cell_type": "code",
   "execution_count": 12,
   "id": "1e4052a7-1fcc-4086-b66b-f01c7b5e08fb",
   "metadata": {},
   "outputs": [
    {
     "data": {
      "text/plain": [
       "('onnx/tokenizer_config.json',\n",
       " 'onnx/special_tokens_map.json',\n",
       " 'onnx/vocab.txt',\n",
       " 'onnx/added_tokens.json',\n",
       " 'onnx/tokenizer.json')"
      ]
     },
     "execution_count": 12,
     "metadata": {},
     "output_type": "execute_result"
    }
   ],
   "source": [
    "from optimum.onnxruntime import ORTModelForFeatureExtraction\n",
    "from transformers import AutoTokenizer\n",
    "\n",
    "model_id = \"setfit-minilm-distilled\"\n",
    "onnx_path = Path(\"onnx\")\n",
    "ort_model = ORTModelForFeatureExtraction.from_pretrained(\n",
    "    model_id, from_transformers=True\n",
    ")\n",
    "tokenizer = AutoTokenizer.from_pretrained(model_id)\n",
    "ort_model.save_pretrained(onnx_path)\n",
    "tokenizer.save_pretrained(onnx_path)"
   ]
  },
  {
   "cell_type": "markdown",
   "id": "19e970f1-aec3-4f71-bbac-6a01b4889626",
   "metadata": {},
   "source": [
    "Now that the model is saved in ONNX format, we'll need an ONNX-variant of the `SetFitModel` class that allows us to train and run inference with it:"
   ]
  },
  {
   "cell_type": "code",
   "execution_count": 18,
   "id": "f8848123-69c4-4fda-8992-87c1b5c97649",
   "metadata": {},
   "outputs": [],
   "source": [
    "from setfit.exporters.utils import mean_pooling\n",
    "from sklearn.linear_model import LogisticRegression\n",
    "\n",
    "\n",
    "class OnnxSetFitModel:\n",
    "    def __init__(self, ort_model, tokenizer, model_head):\n",
    "        self.ort_model = ort_model\n",
    "        self.tokenizer = tokenizer\n",
    "        self.model_head = model_head\n",
    "\n",
    "    # def fit(self, x_train, y_train):\n",
    "    #     inputs = self.tokenizer(\n",
    "    #         x_train, padding=True, truncation=True, return_tensors=\"pt\"\n",
    "    #     )\n",
    "    #     outputs = self.ort_model(**inputs)\n",
    "    #     embeddings = mean_pooling(\n",
    "    #         outputs[\"last_hidden_state\"], inputs[\"attention_mask\"]\n",
    "    #     )\n",
    "    #     self.model_head.fit(embeddings, y_train)\n",
    "\n",
    "    def predict(self, inputs):\n",
    "        encoded_inputs = self.tokenizer(\n",
    "            inputs, padding=True, truncation=True, return_tensors=\"pt\"\n",
    "        )\n",
    "        outputs = self.ort_model(**encoded_inputs)\n",
    "        embeddings = mean_pooling(\n",
    "            outputs[\"last_hidden_state\"], encoded_inputs[\"attention_mask\"]\n",
    "        )\n",
    "        return self.model_head.predict(embeddings)\n",
    "\n",
    "    def __call__(self, inputs):\n",
    "        return self.predict(inputs)"
   ]
  },
  {
   "cell_type": "code",
   "execution_count": 19,
   "id": "8e854de3-29e3-45b0-a99c-120aea3c3e8b",
   "metadata": {},
   "outputs": [
    {
     "data": {
      "text/plain": [
       "array([2, 1])"
      ]
     },
     "execution_count": 19,
     "metadata": {},
     "output_type": "execute_result"
    }
   ],
   "source": [
    "onnx_setfit_model = OnnxSetFitModel(ort_model, tokenizer, student_model.model_head)\n",
    "onnx_setfit_model(test_dataset[\"text\"][:2])"
   ]
  },
  {
   "cell_type": "markdown",
   "id": "b1e82901-e0d6-472b-b32a-e09eacb74a37",
   "metadata": {},
   "source": [
    "### Apply dynamic quantization"
   ]
  },
  {
   "cell_type": "code",
   "execution_count": 20,
   "id": "4bb84d82-8039-405f-9160-77b7758fde55",
   "metadata": {},
   "outputs": [],
   "source": [
    "import functools\n",
    "\n",
    "import evaluate\n",
    "import onnxruntime\n",
    "from optimum.pipelines import ORTModelForFeatureExtraction\n",
    "from sklearn.linear_model import LogisticRegression\n",
    "\n",
    "accuracy = evaluate.load(\"accuracy\")\n",
    "\n",
    "\n",
    "def eval_func(model, model_head=student_model.model_head):\n",
    "    ort_model = ORTModelForFeatureExtraction.from_pretrained(onnx_path)\n",
    "    ort_model.model = onnxruntime.InferenceSession(model.SerializeToString(), None)\n",
    "    onnx_setfit_model = OnnxSetFitModel(ort_model, tokenizer, model_head)\n",
    "    # onnx_setfit_model.fit(train_dataset_teacher[\"text\"], train_dataset_teacher[\"label\"])\n",
    "    preds = []\n",
    "    chunk_size = 100\n",
    "    for i in tqdm(range(0, len(test_dataset[\"text\"]), chunk_size)):\n",
    "        preds.extend(\n",
    "            onnx_setfit_model.predict(test_dataset[\"text\"][i : i + chunk_size])\n",
    "        )\n",
    "    labels = test_dataset[\"label\"]\n",
    "    accuracy = metric.compute(predictions=preds, references=labels)\n",
    "    return accuracy[\"accuracy\"]"
   ]
  },
  {
   "cell_type": "code",
   "execution_count": 21,
   "id": "4a6abb35-4884-427f-ab4e-979edf1fdf6f",
   "metadata": {},
   "outputs": [],
   "source": [
    "def build_dynamic_quant_yaml():\n",
    "    yaml = \"\"\"\n",
    "model:\n",
    "  name: bert\n",
    "  framework: onnxrt_integerops\n",
    "  \n",
    "device: cpu\n",
    "\n",
    "quantization:\n",
    "  approach: post_training_dynamic_quant\n",
    "\n",
    "tuning:\n",
    "  accuracy_criterion:\n",
    "    relative: 0.01\n",
    "  exit_policy:\n",
    "    timeout: 0\n",
    "  random_seed: 9527\n",
    "    \"\"\"\n",
    "    with open(\"MiniLM_L3_distilled_onnx_dynamic.yaml\", \"w\", encoding=\"utf-8\") as f:\n",
    "        f.write(yaml)\n",
    "\n",
    "\n",
    "build_dynamic_quant_yaml()"
   ]
  },
  {
   "cell_type": "code",
   "execution_count": null,
   "id": "9b4d8e83-6e00-453b-bfd4-1f7d79de8a85",
   "metadata": {},
   "outputs": [],
   "source": [
    "from neural_compressor.experimental import Quantization, common\n",
    "\n",
    "onnx_output_path = \"onnx/model_quantized.onnx\"\n",
    "quantizer = Quantization(\"MiniLM_L3_distilled_onnx_dynamic.yaml\")"
   ]
  },
  {
   "cell_type": "code",
   "execution_count": 23,
   "id": "37b1006f-38de-4f06-bd51-0738958f81e8",
   "metadata": {},
   "outputs": [
    {
     "name": "stderr",
     "output_type": "stream",
     "text": [
      "2022-12-14 13:24:16 [INFO] Get FP32 model baseline.\n"
     ]
    },
    {
     "data": {
      "application/vnd.jupyter.widget-view+json": {
       "model_id": "8c7d6a6a46d04debb2576d8b8c747557",
       "version_major": 2,
       "version_minor": 0
      },
      "text/plain": [
       "  0%|          | 0/76 [00:00<?, ?it/s]"
      ]
     },
     "metadata": {},
     "output_type": "display_data"
    },
    {
     "name": "stderr",
     "output_type": "stream",
     "text": [
      "2022-12-14 13:25:08 [INFO] Save tuning history to /home/lewis_huggingface_co/git/workshops/fewshot-learning-in-production/nc_workspace/2022-12-14_13-24-12/./history.snapshot.\n",
      "2022-12-14 13:25:08 [INFO] FP32 baseline is: [Accuracy: 0.8254, Duration (seconds): 51.9801]\n",
      "2022-12-14 13:25:11 [INFO] |**********Mixed Precision Statistics*********|\n",
      "2022-12-14 13:25:11 [INFO] +-----------------------+-------+------+------+\n",
      "2022-12-14 13:25:11 [INFO] |        Op Type        | Total | INT8 | FP32 |\n",
      "2022-12-14 13:25:11 [INFO] +-----------------------+-------+------+------+\n",
      "2022-12-14 13:25:11 [INFO] |         Gather        |   5   |  3   |  2   |\n",
      "2022-12-14 13:25:11 [INFO] |         MatMul        |   21  |  21  |  0   |\n",
      "2022-12-14 13:25:11 [INFO] |    DequantizeLinear   |   3   |  3   |  0   |\n",
      "2022-12-14 13:25:11 [INFO] | DynamicQuantizeLinear |   18  |  18  |  0   |\n",
      "2022-12-14 13:25:11 [INFO] +-----------------------+-------+------+------+\n",
      "2022-12-14 13:25:11 [INFO] Pass quantize model elapsed time: 3131.07 ms\n"
     ]
    },
    {
     "data": {
      "application/vnd.jupyter.widget-view+json": {
       "model_id": "065342ec98e541f99a5db3aee1959dfb",
       "version_major": 2,
       "version_minor": 0
      },
      "text/plain": [
       "  0%|          | 0/76 [00:00<?, ?it/s]"
      ]
     },
     "metadata": {},
     "output_type": "display_data"
    },
    {
     "name": "stderr",
     "output_type": "stream",
     "text": [
      "2022-12-14 13:25:57 [INFO] Tune 1 result is: [Accuracy (int8|fp32): 0.8228|0.8254, Duration (seconds) (int8|fp32): 46.4463|51.9801], Best tune result is: [Accuracy: 0.8228, Duration (seconds): 46.4463]\n",
      "2022-12-14 13:25:57 [INFO] |**********************Tune Result Statistics**********************|\n",
      "2022-12-14 13:25:57 [INFO] +--------------------+----------+---------------+------------------+\n",
      "2022-12-14 13:25:57 [INFO] |     Info Type      | Baseline | Tune 1 result | Best tune result |\n",
      "2022-12-14 13:25:57 [INFO] +--------------------+----------+---------------+------------------+\n",
      "2022-12-14 13:25:57 [INFO] |      Accuracy      | 0.8254   |    0.8228     |     0.8228       |\n",
      "2022-12-14 13:25:57 [INFO] | Duration (seconds) | 51.9801  |    46.4463    |     46.4463      |\n",
      "2022-12-14 13:25:57 [INFO] +--------------------+----------+---------------+------------------+\n",
      "2022-12-14 13:25:57 [INFO] Save tuning history to /home/lewis_huggingface_co/git/workshops/fewshot-learning-in-production/nc_workspace/2022-12-14_13-24-12/./history.snapshot.\n",
      "2022-12-14 13:25:57 [INFO] Specified timeout or max trials is reached! Found a quantized model which meet accuracy goal. Exit.\n",
      "2022-12-14 13:25:57 [INFO] Save deploy yaml to /home/lewis_huggingface_co/git/workshops/fewshot-learning-in-production/nc_workspace/2022-12-14_13-24-12/deploy.yaml\n"
     ]
    }
   ],
   "source": [
    "quantizer.model = common.Model(\"onnx/model.onnx\")\n",
    "quantizer.eval_func = functools.partial(eval_func)\n",
    "quantized_model = quantizer()"
   ]
  },
  {
   "cell_type": "code",
   "execution_count": 24,
   "id": "2d03f315-9259-49e1-b830-23949f5bd01a",
   "metadata": {},
   "outputs": [],
   "source": [
    "quantized_model.save(\"onnx/model_quantized.onnx\")"
   ]
  },
  {
   "cell_type": "code",
   "execution_count": 25,
   "id": "f5a6055c-6a37-46ae-bf2f-da9de62e644e",
   "metadata": {},
   "outputs": [],
   "source": [
    "class OnnxPerformanceBenchmark(PerformanceBenchmark):\n",
    "    def __init__(self, *args, model_path, **kwargs):\n",
    "        super().__init__(*args, **kwargs)\n",
    "        self.model_path = model_path\n",
    "\n",
    "    def compute_size(self):\n",
    "        size_mb = Path(self.model_path).stat().st_size / (1024 * 1024)\n",
    "        print(f\"Model size (MB) - {size_mb:.2f}\")\n",
    "        return {\"size_mb\": size_mb}\n",
    "\n",
    "    def compute_accuracy(self):\n",
    "        preds = []\n",
    "        chunk_size = 100\n",
    "        for i in tqdm(range(0, len(self.dataset[\"text\"]), chunk_size)):\n",
    "            preds.extend(self.model.predict(self.dataset[\"text\"][i : i + chunk_size]))\n",
    "        labels = self.dataset[\"label\"]\n",
    "        accuracy = metric.compute(predictions=preds, references=labels)\n",
    "        print(f\"Accuracy on test set - {accuracy['accuracy']:.3f}\")\n",
    "        return accuracy"
   ]
  },
  {
   "cell_type": "code",
   "execution_count": 27,
   "id": "2f1679b1-f0ec-4595-bf33-7ed72476a3d5",
   "metadata": {},
   "outputs": [],
   "source": [
    "ort_model = ORTModelForFeatureExtraction.from_pretrained(\n",
    "    onnx_path, file_name=\"model_quantized.onnx\"\n",
    ")\n",
    "onnx_setfit_model = OnnxSetFitModel(ort_model, tokenizer, student_model.model_head)\n",
    "# onnx_setfit_model.fit(train_dataset_teacher[\"text\"], train_dataset_teacher[\"label\"])"
   ]
  },
  {
   "cell_type": "code",
   "execution_count": 28,
   "id": "8806aee3-278a-4bac-ada2-7249cf385dec",
   "metadata": {},
   "outputs": [
    {
     "name": "stdout",
     "output_type": "stream",
     "text": [
      "Model size (MB) - 17.13\n"
     ]
    },
    {
     "data": {
      "application/vnd.jupyter.widget-view+json": {
       "model_id": "96c70474414c45a5800a9dfaf4349f48",
       "version_major": 2,
       "version_minor": 0
      },
      "text/plain": [
       "  0%|          | 0/76 [00:00<?, ?it/s]"
      ]
     },
     "metadata": {},
     "output_type": "display_data"
    },
    {
     "name": "stdout",
     "output_type": "stream",
     "text": [
      "Accuracy on test set - 0.823\n",
      "Average latency (ms) - 1.48 +\\- 0.14\n"
     ]
    },
    {
     "data": {
      "image/png": "[encoded data removed]",
      "text/plain": [
       "<Figure size 640x480 with 1 Axes>"
      ]
     },
     "metadata": {},
     "output_type": "display_data"
    }
   ],
   "source": [
    "pb = OnnxPerformanceBenchmark(\n",
    "    onnx_setfit_model,\n",
    "    test_dataset,\n",
    "    \"MiniLM-L3 (distilled + quantized)\",\n",
    "    model_path=\"onnx/model_quantized.onnx\",\n",
    ")\n",
    "perf_metrics.update(pb.run_benchmark())\n",
    "plot_metrics(perf_metrics, \"MiniLM-L3 (distilled + quantized)\")"
   ]
  },
  {
   "cell_type": "markdown",
   "id": "56c68359-38bc-42d3-9f42-b37471cdf78f",
   "metadata": {},
   "source": [
    "Wow, using Intel Neural Compressor shrunk our model to 17MB and even managed to preserve the performance of the original model!"
   ]
  },
  {
   "cell_type": "code",
   "execution_count": null,
   "id": "7eb8bbdc-40e7-44dd-8a21-4604405e16a3",
   "metadata": {},
   "outputs": [],
   "source": []
  }
 ],
 "metadata": {
  "kernelspec": {
   "display_name": "Python 3 (ipykernel)",
   "language": "python",
   "name": "python3"
  },
  "language_info": {
   "codemirror_mode": {
    "name": "ipython",
    "version": 3
   },
   "file_extension": ".py",
   "mimetype": "text/x-python",
   "name": "python",
   "nbconvert_exporter": "python",
   "pygments_lexer": "ipython3",
   "version": "3.9.13"
  }
 },
 "nbformat": 4,
 "nbformat_minor": 5
}
